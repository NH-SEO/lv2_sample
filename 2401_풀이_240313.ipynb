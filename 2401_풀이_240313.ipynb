{
 "cells": [
  {
   "cell_type": "code",
   "execution_count": 120,
   "id": "68898f38",
   "metadata": {},
   "outputs": [],
   "source": [
    "import warnings\n",
    "warnings.filterwarnings('ignore')\n",
    "\n",
    "import pandas as pd\n",
    "import numpy as np"
   ]
  },
  {
   "cell_type": "code",
   "execution_count": 121,
   "id": "4eb8a16c",
   "metadata": {},
   "outputs": [],
   "source": [
    "Cust = pd.read_csv('lv2-2401.csv')"
   ]
  },
  {
   "cell_type": "code",
   "execution_count": 122,
   "id": "0abcd13c",
   "metadata": {},
   "outputs": [
    {
     "data": {
      "text/plain": [
       "(2000, 9)"
      ]
     },
     "execution_count": 122,
     "metadata": {},
     "output_type": "execute_result"
    }
   ],
   "source": [
    "Cust.shape"
   ]
  },
  {
   "cell_type": "markdown",
   "id": "2af932ab",
   "metadata": {},
   "source": [
    "# 1."
   ]
  },
  {
   "cell_type": "markdown",
   "id": "10207bd4",
   "metadata": {},
   "source": [
    "## 1-1."
   ]
  },
  {
   "cell_type": "code",
   "execution_count": 123,
   "id": "3d290702",
   "metadata": {},
   "outputs": [],
   "source": [
    "df1 = Cust.copy()"
   ]
  },
  {
   "cell_type": "code",
   "execution_count": 124,
   "id": "c641334e",
   "metadata": {},
   "outputs": [],
   "source": [
    "def get_age_p(x):\n",
    "    if x < 20:\n",
    "        return '10s'\n",
    "    elif x < 30:\n",
    "        return '20s'\n",
    "    elif x < 40:\n",
    "        return '30s'\n",
    "    elif x < 50:\n",
    "        return '40s'\n",
    "    elif x < 60:\n",
    "        return '50s'\n",
    "    else:\n",
    "        return 'other'"
   ]
  },
  {
   "cell_type": "code",
   "execution_count": 125,
   "id": "9ede9a06",
   "metadata": {
    "scrolled": true
   },
   "outputs": [],
   "source": [
    "df1['AGE_P'] = df1['AGE'].map(get_age_p)"
   ]
  },
  {
   "cell_type": "markdown",
   "id": "4fa415d6",
   "metadata": {},
   "source": [
    "## 1-2."
   ]
  },
  {
   "cell_type": "code",
   "execution_count": 126,
   "id": "f8e765ff",
   "metadata": {},
   "outputs": [],
   "source": [
    "Agg24 = df1.groupby('AGE_P')\\\n",
    "            .agg({'SPENDING': 'mean', 'C_ID': 'count'})\\\n",
    "            .rename(columns={'SPENDING': 'AVG_SPEND', 'C_ID': 'CUST_CNT'})"
   ]
  },
  {
   "cell_type": "markdown",
   "id": "8ac3e764",
   "metadata": {},
   "source": [
    "## 1-3."
   ]
  },
  {
   "cell_type": "code",
   "execution_count": 127,
   "id": "5012ffe4",
   "metadata": {},
   "outputs": [
    {
     "data": {
      "text/plain": [
       "AGE_P\n",
       "10s    380\n",
       "Name: CUST_CNT, dtype: int64"
      ]
     },
     "execution_count": 127,
     "metadata": {},
     "output_type": "execute_result"
    }
   ],
   "source": [
    "Agg24.loc[Agg24['AVG_SPEND'] == Agg24['AVG_SPEND'].max(), 'CUST_CNT']"
   ]
  },
  {
   "cell_type": "markdown",
   "id": "83338ef2",
   "metadata": {},
   "source": [
    "# 2."
   ]
  },
  {
   "cell_type": "markdown",
   "id": "c84c03f6",
   "metadata": {},
   "source": [
    "## 2-1."
   ]
  },
  {
   "cell_type": "code",
   "execution_count": 128,
   "id": "875f5e39",
   "metadata": {},
   "outputs": [],
   "source": [
    "df2 = Cust.copy()"
   ]
  },
  {
   "cell_type": "code",
   "execution_count": 129,
   "id": "919e0218",
   "metadata": {},
   "outputs": [
    {
     "data": {
      "text/plain": [
       "['AGE', 'INCOME', 'WORK_EXP', 'FAMILY', 'SPENDING']"
      ]
     },
     "execution_count": 129,
     "metadata": {},
     "output_type": "execute_result"
    }
   ],
   "source": [
    "df2.columns\n",
    "cols = ['AGE', 'INCOME', 'WORK_EXP', 'FAMILY', 'SPENDING']\n",
    "cols"
   ]
  },
  {
   "cell_type": "code",
   "execution_count": 130,
   "id": "c25072b5",
   "metadata": {},
   "outputs": [],
   "source": [
    "from sklearn.preprocessing import StandardScaler"
   ]
  },
  {
   "cell_type": "code",
   "execution_count": 131,
   "id": "cfc09b5b",
   "metadata": {},
   "outputs": [],
   "source": [
    "scaler = StandardScaler().fit(X=df2[cols])"
   ]
  },
  {
   "cell_type": "code",
   "execution_count": 132,
   "id": "d5ec9e6b",
   "metadata": {},
   "outputs": [
    {
     "data": {
      "text/html": [
       "<div>\n",
       "<style scoped>\n",
       "    .dataframe tbody tr th:only-of-type {\n",
       "        vertical-align: middle;\n",
       "    }\n",
       "\n",
       "    .dataframe tbody tr th {\n",
       "        vertical-align: top;\n",
       "    }\n",
       "\n",
       "    .dataframe thead th {\n",
       "        text-align: right;\n",
       "    }\n",
       "</style>\n",
       "<table border=\"1\" class=\"dataframe\">\n",
       "  <thead>\n",
       "    <tr style=\"text-align: right;\">\n",
       "      <th></th>\n",
       "      <th>C_ID</th>\n",
       "      <th>GENDER</th>\n",
       "      <th>AGE</th>\n",
       "      <th>INCOME</th>\n",
       "      <th>JOB</th>\n",
       "      <th>WORK_EXP</th>\n",
       "      <th>FAMILY</th>\n",
       "      <th>SPENDING</th>\n",
       "      <th>GRADE</th>\n",
       "    </tr>\n",
       "  </thead>\n",
       "  <tbody>\n",
       "    <tr>\n",
       "      <td>0</td>\n",
       "      <td>1</td>\n",
       "      <td>Male</td>\n",
       "      <td>-1.098933</td>\n",
       "      <td>-2.093501</td>\n",
       "      <td>B</td>\n",
       "      <td>-0.791207</td>\n",
       "      <td>0.117497</td>\n",
       "      <td>-0.428339</td>\n",
       "      <td>prestige</td>\n",
       "    </tr>\n",
       "    <tr>\n",
       "      <td>1</td>\n",
       "      <td>2</td>\n",
       "      <td>Male</td>\n",
       "      <td>-0.996920</td>\n",
       "      <td>-1.656133</td>\n",
       "      <td>D</td>\n",
       "      <td>-0.281162</td>\n",
       "      <td>-0.390051</td>\n",
       "      <td>1.075546</td>\n",
       "      <td>royal blue</td>\n",
       "    </tr>\n",
       "    <tr>\n",
       "      <td>2</td>\n",
       "      <td>3</td>\n",
       "      <td>Female</td>\n",
       "      <td>-1.047927</td>\n",
       "      <td>-0.540845</td>\n",
       "      <td>D</td>\n",
       "      <td>-0.791207</td>\n",
       "      <td>-1.405148</td>\n",
       "      <td>-1.609962</td>\n",
       "      <td>general</td>\n",
       "    </tr>\n",
       "    <tr>\n",
       "      <td>3</td>\n",
       "      <td>4</td>\n",
       "      <td>Female</td>\n",
       "      <td>-0.894907</td>\n",
       "      <td>-1.131292</td>\n",
       "      <td>G</td>\n",
       "      <td>-1.046230</td>\n",
       "      <td>-0.897599</td>\n",
       "      <td>0.932319</td>\n",
       "      <td>royal blue</td>\n",
       "    </tr>\n",
       "    <tr>\n",
       "      <td>4</td>\n",
       "      <td>5</td>\n",
       "      <td>Female</td>\n",
       "      <td>-0.486856</td>\n",
       "      <td>-1.590528</td>\n",
       "      <td>C</td>\n",
       "      <td>-0.536185</td>\n",
       "      <td>1.132594</td>\n",
       "      <td>-0.392532</td>\n",
       "      <td>prestige</td>\n",
       "    </tr>\n",
       "  </tbody>\n",
       "</table>\n",
       "</div>"
      ],
      "text/plain": [
       "   C_ID  GENDER       AGE    INCOME JOB  WORK_EXP    FAMILY  SPENDING  \\\n",
       "0     1    Male -1.098933 -2.093501   B -0.791207  0.117497 -0.428339   \n",
       "1     2    Male -0.996920 -1.656133   D -0.281162 -0.390051  1.075546   \n",
       "2     3  Female -1.047927 -0.540845   D -0.791207 -1.405148 -1.609962   \n",
       "3     4  Female -0.894907 -1.131292   G -1.046230 -0.897599  0.932319   \n",
       "4     5  Female -0.486856 -1.590528   C -0.536185  1.132594 -0.392532   \n",
       "\n",
       "        GRADE  \n",
       "0    prestige  \n",
       "1  royal blue  \n",
       "2     general  \n",
       "3  royal blue  \n",
       "4    prestige  "
      ]
     },
     "execution_count": 132,
     "metadata": {},
     "output_type": "execute_result"
    }
   ],
   "source": [
    "df2[cols] = pd.DataFrame(scaler.transform(df2[cols]), columns=cols)\n",
    "df2.head()"
   ]
  },
  {
   "cell_type": "markdown",
   "id": "125fec0d",
   "metadata": {},
   "source": [
    "## 2-2.\n",
    "## 2-3."
   ]
  },
  {
   "cell_type": "code",
   "execution_count": 133,
   "id": "9ea595fc",
   "metadata": {},
   "outputs": [],
   "source": [
    "df2 = df2.sort_values(by='C_ID')"
   ]
  },
  {
   "cell_type": "code",
   "execution_count": 134,
   "id": "5549fde7",
   "metadata": {},
   "outputs": [],
   "source": [
    "from sklearn.cluster import KMeans\n",
    "from sklearn.metrics import silhouette_score"
   ]
  },
  {
   "cell_type": "markdown",
   "id": "04bd60b9",
   "metadata": {},
   "source": [
    "- cell merge : shift + m"
   ]
  },
  {
   "cell_type": "code",
   "execution_count": 135,
   "id": "16738222",
   "metadata": {},
   "outputs": [],
   "source": [
    "result = pd.DataFrame()\n",
    "\n",
    "for i in [3, 4]:\n",
    "    model = KMeans(n_clusters=i, random_state=1234, init='random').fit(df2[cols])\n",
    "    clusters = model.predict(df2[cols])\n",
    "    score = silhouette_score(df2[cols], clusters)\n",
    "    \n",
    "    result = result.append({'cluster': i, 'score': score}, ignore_index=True)"
   ]
  },
  {
   "cell_type": "code",
   "execution_count": 136,
   "id": "716a9eb4",
   "metadata": {},
   "outputs": [
    {
     "data": {
      "text/plain": [
       "0.158"
      ]
     },
     "execution_count": 136,
     "metadata": {},
     "output_type": "execute_result"
    }
   ],
   "source": [
    "result['score'].max().round(3)"
   ]
  },
  {
   "cell_type": "markdown",
   "id": "f158bfae",
   "metadata": {},
   "source": [
    "# 3."
   ]
  },
  {
   "cell_type": "markdown",
   "id": "9420a612",
   "metadata": {},
   "source": [
    "## 3-1."
   ]
  },
  {
   "cell_type": "code",
   "execution_count": 138,
   "id": "15941553",
   "metadata": {},
   "outputs": [
    {
     "data": {
      "text/plain": [
       "(1714, 9)"
      ]
     },
     "execution_count": 138,
     "metadata": {},
     "output_type": "execute_result"
    }
   ],
   "source": [
    "df3 = Cust[~(Cust['AGE'] < 14) & ~(Cust['JOB'].isna())]\n",
    "df3.shape"
   ]
  },
  {
   "cell_type": "markdown",
   "id": "6d515246",
   "metadata": {},
   "source": [
    "## 3-2."
   ]
  },
  {
   "cell_type": "code",
   "execution_count": 139,
   "id": "0d4cead5",
   "metadata": {},
   "outputs": [],
   "source": [
    "df3 = pd.get_dummies(df3, columns=['GENDER', 'JOB'], drop_first=True)"
   ]
  },
  {
   "cell_type": "markdown",
   "id": "b3473a87",
   "metadata": {},
   "source": [
    "## 3-3."
   ]
  },
  {
   "cell_type": "code",
   "execution_count": 140,
   "id": "269c7c9c",
   "metadata": {},
   "outputs": [
    {
     "data": {
      "text/plain": [
       "(1148, 16)"
      ]
     },
     "metadata": {},
     "output_type": "display_data"
    },
    {
     "data": {
      "text/plain": [
       "(566, 16)"
      ]
     },
     "metadata": {},
     "output_type": "display_data"
    }
   ],
   "source": [
    "TrainSet6 = df3[df3['C_ID'] % 3 != 0]\n",
    "TestSet6 = df3[df3['C_ID'] % 3 == 0]\n",
    "display(TrainSet6.shape, TestSet6.shape)"
   ]
  },
  {
   "cell_type": "markdown",
   "id": "dc00f1b8",
   "metadata": {},
   "source": [
    "## 3-4."
   ]
  },
  {
   "cell_type": "code",
   "execution_count": 141,
   "id": "0470af04",
   "metadata": {},
   "outputs": [
    {
     "data": {
      "text/plain": [
       "13"
      ]
     },
     "execution_count": 141,
     "metadata": {},
     "output_type": "execute_result"
    }
   ],
   "source": [
    "TrainSet6.columns\n",
    "cols = ['AGE', 'INCOME', 'WORK_EXP', 'FAMILY',\n",
    "       'GENDER_Male', 'JOB_B', 'JOB_C', 'JOB_D', 'JOB_E', 'JOB_F', 'JOB_G',\n",
    "       'JOB_H', 'JOB_I']\n",
    "len(cols)"
   ]
  },
  {
   "cell_type": "code",
   "execution_count": 142,
   "id": "a0aa0dcc",
   "metadata": {},
   "outputs": [],
   "source": [
    "from sklearn.tree import DecisionTreeClassifier"
   ]
  },
  {
   "cell_type": "code",
   "execution_count": 143,
   "id": "32719593",
   "metadata": {},
   "outputs": [],
   "source": [
    "model = DecisionTreeClassifier(max_depth=5, random_state=1234).fit(X=TrainSet6[cols], y=TrainSet6['GRADE'])"
   ]
  },
  {
   "cell_type": "code",
   "execution_count": 144,
   "id": "d2caf2c1",
   "metadata": {},
   "outputs": [],
   "source": [
    "pred = model.predict(X=TestSet6[cols])"
   ]
  },
  {
   "cell_type": "markdown",
   "id": "c781e224",
   "metadata": {},
   "source": [
    "## 3-5."
   ]
  },
  {
   "cell_type": "code",
   "execution_count": 145,
   "id": "fa975d65",
   "metadata": {},
   "outputs": [],
   "source": [
    "from sklearn.metrics import accuracy_score"
   ]
  },
  {
   "cell_type": "code",
   "execution_count": 148,
   "id": "f34bca7e",
   "metadata": {
    "scrolled": true
   },
   "outputs": [
    {
     "data": {
      "text/plain": [
       "33.22"
      ]
     },
     "execution_count": 148,
     "metadata": {},
     "output_type": "execute_result"
    }
   ],
   "source": [
    "round(accuracy_score(y_true=TestSet6['GRADE'], y_pred=pred) * 100, 2)"
   ]
  },
  {
   "cell_type": "code",
   "execution_count": null,
   "id": "dd02a790",
   "metadata": {},
   "outputs": [],
   "source": []
  },
  {
   "cell_type": "code",
   "execution_count": null,
   "id": "06c3574a",
   "metadata": {},
   "outputs": [],
   "source": []
  },
  {
   "cell_type": "code",
   "execution_count": null,
   "id": "d9f7781d",
   "metadata": {},
   "outputs": [],
   "source": []
  },
  {
   "cell_type": "code",
   "execution_count": null,
   "id": "413862a1",
   "metadata": {},
   "outputs": [],
   "source": []
  },
  {
   "cell_type": "code",
   "execution_count": null,
   "id": "4a505bc6",
   "metadata": {},
   "outputs": [],
   "source": []
  },
  {
   "cell_type": "code",
   "execution_count": null,
   "id": "abc478dc",
   "metadata": {},
   "outputs": [],
   "source": []
  },
  {
   "cell_type": "code",
   "execution_count": null,
   "id": "06d6f7c4",
   "metadata": {},
   "outputs": [],
   "source": []
  },
  {
   "cell_type": "code",
   "execution_count": null,
   "id": "ccdd6fa9",
   "metadata": {},
   "outputs": [],
   "source": []
  }
 ],
 "metadata": {
  "kernelspec": {
   "display_name": "Python 3 (ipykernel)",
   "language": "python",
   "name": "python3"
  },
  "language_info": {
   "codemirror_mode": {
    "name": "ipython",
    "version": 3
   },
   "file_extension": ".py",
   "mimetype": "text/x-python",
   "name": "python",
   "nbconvert_exporter": "python",
   "pygments_lexer": "ipython3",
   "version": "3.7.4"
  }
 },
 "nbformat": 4,
 "nbformat_minor": 5
}
