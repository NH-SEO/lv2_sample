{
 "cells": [
  {
   "cell_type": "code",
   "execution_count": 127,
   "id": "c633f041",
   "metadata": {},
   "outputs": [],
   "source": [
    "import warnings\n",
    "warnings.filterwarnings('ignore')\n",
    "\n",
    "import pandas as pd\n",
    "import numpy as np"
   ]
  },
  {
   "cell_type": "code",
   "execution_count": 128,
   "id": "63c88a28",
   "metadata": {},
   "outputs": [
    {
     "data": {
      "text/plain": [
       "(7488, 7)"
      ]
     },
     "execution_count": 128,
     "metadata": {},
     "output_type": "execute_result"
    }
   ],
   "source": [
    "post = pd.read_csv('lv2-2402.csv')\n",
    "post.shape"
   ]
  },
  {
   "cell_type": "markdown",
   "id": "cf65e765",
   "metadata": {},
   "source": [
    "# 1."
   ]
  },
  {
   "cell_type": "markdown",
   "id": "10b44255",
   "metadata": {},
   "source": [
    "## 1-1."
   ]
  },
  {
   "cell_type": "code",
   "execution_count": 129,
   "id": "1823d9d5",
   "metadata": {},
   "outputs": [],
   "source": [
    "df1 = post.copy()"
   ]
  },
  {
   "cell_type": "code",
   "execution_count": 130,
   "id": "76a091bf",
   "metadata": {},
   "outputs": [],
   "source": [
    "yes_map = {'heart emoji': 5, 'thumbs up': 4, 'clap': 3, 'laughing': 2, np.nan: 1, 'fire': 0}\n",
    "df1.loc[df1['LIKES'] == 'yes', 'LIKE_SCORE'] = df1.loc[df1['LIKES'] == 'yes', 'LIKE_TYPE'].map(yes_map)"
   ]
  },
  {
   "cell_type": "code",
   "execution_count": 131,
   "id": "9e525ba5",
   "metadata": {},
   "outputs": [],
   "source": [
    "no_map = {'fire': -5, np.nan: -1}\n",
    "df1.loc[df1['LIKES'] == 'no', 'LIKE_SCORE'] = df1.loc[df1['LIKES'] == 'no', 'LIKE_TYPE'].map(no_map).fillna(0)"
   ]
  },
  {
   "cell_type": "code",
   "execution_count": 132,
   "id": "a4ec6c49",
   "metadata": {},
   "outputs": [
    {
     "data": {
      "text/html": [
       "<div>\n",
       "<style scoped>\n",
       "    .dataframe tbody tr th:only-of-type {\n",
       "        vertical-align: middle;\n",
       "    }\n",
       "\n",
       "    .dataframe tbody tr th {\n",
       "        vertical-align: top;\n",
       "    }\n",
       "\n",
       "    .dataframe thead th {\n",
       "        text-align: right;\n",
       "    }\n",
       "</style>\n",
       "<table border=\"1\" class=\"dataframe\">\n",
       "  <thead>\n",
       "    <tr style=\"text-align: right;\">\n",
       "      <th></th>\n",
       "      <th>PID</th>\n",
       "      <th>USER_ID</th>\n",
       "      <th>POST_ID</th>\n",
       "      <th>CREATED_DATE</th>\n",
       "      <th>LIKES</th>\n",
       "      <th>NUM_HASHTAG</th>\n",
       "      <th>LIKE_TYPE</th>\n",
       "      <th>LIKE_SCORE</th>\n",
       "    </tr>\n",
       "  </thead>\n",
       "  <tbody>\n",
       "    <tr>\n",
       "      <td>0</td>\n",
       "      <td>1</td>\n",
       "      <td>2</td>\n",
       "      <td>1</td>\n",
       "      <td>2023-04-13</td>\n",
       "      <td>yes</td>\n",
       "      <td>1</td>\n",
       "      <td>heart emoji</td>\n",
       "      <td>5.0</td>\n",
       "    </tr>\n",
       "    <tr>\n",
       "      <td>1</td>\n",
       "      <td>2</td>\n",
       "      <td>3</td>\n",
       "      <td>1</td>\n",
       "      <td>2023-04-13</td>\n",
       "      <td>no</td>\n",
       "      <td>2</td>\n",
       "      <td>NaN</td>\n",
       "      <td>-1.0</td>\n",
       "    </tr>\n",
       "    <tr>\n",
       "      <td>2</td>\n",
       "      <td>3</td>\n",
       "      <td>5</td>\n",
       "      <td>1</td>\n",
       "      <td>2023-04-13</td>\n",
       "      <td>no</td>\n",
       "      <td>4</td>\n",
       "      <td>fire</td>\n",
       "      <td>-5.0</td>\n",
       "    </tr>\n",
       "    <tr>\n",
       "      <td>3</td>\n",
       "      <td>4</td>\n",
       "      <td>14</td>\n",
       "      <td>1</td>\n",
       "      <td>2023-04-13</td>\n",
       "      <td>yes</td>\n",
       "      <td>2</td>\n",
       "      <td>laughing</td>\n",
       "      <td>2.0</td>\n",
       "    </tr>\n",
       "    <tr>\n",
       "      <td>4</td>\n",
       "      <td>5</td>\n",
       "      <td>17</td>\n",
       "      <td>1</td>\n",
       "      <td>2023-04-13</td>\n",
       "      <td>yes</td>\n",
       "      <td>1</td>\n",
       "      <td>NaN</td>\n",
       "      <td>1.0</td>\n",
       "    </tr>\n",
       "  </tbody>\n",
       "</table>\n",
       "</div>"
      ],
      "text/plain": [
       "   PID  USER_ID  POST_ID CREATED_DATE LIKES  NUM_HASHTAG    LIKE_TYPE  \\\n",
       "0    1        2        1   2023-04-13   yes            1  heart emoji   \n",
       "1    2        3        1   2023-04-13    no            2          NaN   \n",
       "2    3        5        1   2023-04-13    no            4         fire   \n",
       "3    4       14        1   2023-04-13   yes            2     laughing   \n",
       "4    5       17        1   2023-04-13   yes            1          NaN   \n",
       "\n",
       "   LIKE_SCORE  \n",
       "0         5.0  \n",
       "1        -1.0  \n",
       "2        -5.0  \n",
       "3         2.0  \n",
       "4         1.0  "
      ]
     },
     "execution_count": 132,
     "metadata": {},
     "output_type": "execute_result"
    }
   ],
   "source": [
    "df1.head()"
   ]
  },
  {
   "cell_type": "markdown",
   "id": "5d86ca89",
   "metadata": {},
   "source": [
    "## 1-2."
   ]
  },
  {
   "cell_type": "code",
   "execution_count": 133,
   "id": "cd52c5dd",
   "metadata": {},
   "outputs": [
    {
     "data": {
      "text/html": [
       "<div>\n",
       "<style scoped>\n",
       "    .dataframe tbody tr th:only-of-type {\n",
       "        vertical-align: middle;\n",
       "    }\n",
       "\n",
       "    .dataframe tbody tr th {\n",
       "        vertical-align: top;\n",
       "    }\n",
       "\n",
       "    .dataframe thead th {\n",
       "        text-align: right;\n",
       "    }\n",
       "</style>\n",
       "<table border=\"1\" class=\"dataframe\">\n",
       "  <thead>\n",
       "    <tr style=\"text-align: right;\">\n",
       "      <th></th>\n",
       "      <th>NUM_LIKES</th>\n",
       "      <th>NUM_USER</th>\n",
       "      <th>SUM_SCORE</th>\n",
       "    </tr>\n",
       "    <tr>\n",
       "      <th>POST_ID</th>\n",
       "      <th></th>\n",
       "      <th></th>\n",
       "      <th></th>\n",
       "    </tr>\n",
       "  </thead>\n",
       "  <tbody>\n",
       "    <tr>\n",
       "      <td>1</td>\n",
       "      <td>13.0</td>\n",
       "      <td>25.0</td>\n",
       "      <td>0.0</td>\n",
       "    </tr>\n",
       "    <tr>\n",
       "      <td>2</td>\n",
       "      <td>15.0</td>\n",
       "      <td>31.0</td>\n",
       "      <td>5.0</td>\n",
       "    </tr>\n",
       "    <tr>\n",
       "      <td>3</td>\n",
       "      <td>14.0</td>\n",
       "      <td>27.0</td>\n",
       "      <td>23.0</td>\n",
       "    </tr>\n",
       "    <tr>\n",
       "      <td>4</td>\n",
       "      <td>16.0</td>\n",
       "      <td>32.0</td>\n",
       "      <td>22.0</td>\n",
       "    </tr>\n",
       "    <tr>\n",
       "      <td>5</td>\n",
       "      <td>13.0</td>\n",
       "      <td>27.0</td>\n",
       "      <td>18.0</td>\n",
       "    </tr>\n",
       "    <tr>\n",
       "      <td>...</td>\n",
       "      <td>...</td>\n",
       "      <td>...</td>\n",
       "      <td>...</td>\n",
       "    </tr>\n",
       "    <tr>\n",
       "      <td>253</td>\n",
       "      <td>13.0</td>\n",
       "      <td>26.0</td>\n",
       "      <td>31.0</td>\n",
       "    </tr>\n",
       "    <tr>\n",
       "      <td>254</td>\n",
       "      <td>13.0</td>\n",
       "      <td>26.0</td>\n",
       "      <td>26.0</td>\n",
       "    </tr>\n",
       "    <tr>\n",
       "      <td>255</td>\n",
       "      <td>15.0</td>\n",
       "      <td>29.0</td>\n",
       "      <td>32.0</td>\n",
       "    </tr>\n",
       "    <tr>\n",
       "      <td>256</td>\n",
       "      <td>14.0</td>\n",
       "      <td>29.0</td>\n",
       "      <td>6.0</td>\n",
       "    </tr>\n",
       "    <tr>\n",
       "      <td>257</td>\n",
       "      <td>12.0</td>\n",
       "      <td>24.0</td>\n",
       "      <td>7.0</td>\n",
       "    </tr>\n",
       "  </tbody>\n",
       "</table>\n",
       "<p>257 rows × 3 columns</p>\n",
       "</div>"
      ],
      "text/plain": [
       "         NUM_LIKES  NUM_USER  SUM_SCORE\n",
       "POST_ID                                \n",
       "1             13.0      25.0        0.0\n",
       "2             15.0      31.0        5.0\n",
       "3             14.0      27.0       23.0\n",
       "4             16.0      32.0       22.0\n",
       "5             13.0      27.0       18.0\n",
       "...            ...       ...        ...\n",
       "253           13.0      26.0       31.0\n",
       "254           13.0      26.0       26.0\n",
       "255           15.0      29.0       32.0\n",
       "256           14.0      29.0        6.0\n",
       "257           12.0      24.0        7.0\n",
       "\n",
       "[257 rows x 3 columns]"
      ]
     },
     "execution_count": 133,
     "metadata": {},
     "output_type": "execute_result"
    }
   ],
   "source": [
    "AGG24 = df1.groupby('POST_ID').apply(lambda x: pd.Series({'NUM_LIKES': (x['LIKES'] == 'yes').sum(),\n",
    "                                                          'NUM_USER': x['USER_ID'].nunique(),\n",
    "                                                          'SUM_SCORE': x['LIKE_SCORE'].sum()}))\n",
    "AGG24"
   ]
  },
  {
   "cell_type": "markdown",
   "id": "38d9ed37",
   "metadata": {},
   "source": [
    "## 1-3."
   ]
  },
  {
   "cell_type": "code",
   "execution_count": 134,
   "id": "b42f8fee",
   "metadata": {},
   "outputs": [],
   "source": [
    "AGG24['POPULAR'] = AGG24['NUM_LIKES'] + (AGG24['SUM_SCORE'] / AGG24['NUM_USER'])"
   ]
  },
  {
   "cell_type": "code",
   "execution_count": 135,
   "id": "7e859d7d",
   "metadata": {},
   "outputs": [
    {
     "data": {
      "text/plain": [
       "20.82"
      ]
     },
     "execution_count": 135,
     "metadata": {},
     "output_type": "execute_result"
    }
   ],
   "source": [
    "AGG24['POPULAR'].max().round(2)"
   ]
  },
  {
   "cell_type": "markdown",
   "id": "529b9b7c",
   "metadata": {},
   "source": [
    "# 2."
   ]
  },
  {
   "cell_type": "markdown",
   "id": "9f72194b",
   "metadata": {},
   "source": [
    "## 2-1."
   ]
  },
  {
   "cell_type": "code",
   "execution_count": 136,
   "id": "5fa729b4",
   "metadata": {},
   "outputs": [],
   "source": [
    "df2 = post.copy()"
   ]
  },
  {
   "cell_type": "code",
   "execution_count": 147,
   "id": "3758695a",
   "metadata": {},
   "outputs": [
    {
     "data": {
      "text/plain": [
       "2"
      ]
     },
     "execution_count": 147,
     "metadata": {},
     "output_type": "execute_result"
    }
   ],
   "source": [
    "# 참고\n",
    "test = [False, True, True]\n",
    "np.sum(test)"
   ]
  },
  {
   "cell_type": "code",
   "execution_count": 71,
   "id": "1bdaf5a5",
   "metadata": {},
   "outputs": [
    {
     "data": {
      "text/html": [
       "<div>\n",
       "<style scoped>\n",
       "    .dataframe tbody tr th:only-of-type {\n",
       "        vertical-align: middle;\n",
       "    }\n",
       "\n",
       "    .dataframe tbody tr th {\n",
       "        vertical-align: top;\n",
       "    }\n",
       "\n",
       "    .dataframe thead th {\n",
       "        text-align: right;\n",
       "    }\n",
       "</style>\n",
       "<table border=\"1\" class=\"dataframe\">\n",
       "  <thead>\n",
       "    <tr style=\"text-align: right;\">\n",
       "      <th></th>\n",
       "      <th>NUM_POST</th>\n",
       "      <th>NUM_LIKE</th>\n",
       "    </tr>\n",
       "    <tr>\n",
       "      <th>USER_ID</th>\n",
       "      <th></th>\n",
       "      <th></th>\n",
       "    </tr>\n",
       "  </thead>\n",
       "  <tbody>\n",
       "    <tr>\n",
       "      <td>2</td>\n",
       "      <td>66</td>\n",
       "      <td>29</td>\n",
       "    </tr>\n",
       "    <tr>\n",
       "      <td>3</td>\n",
       "      <td>67</td>\n",
       "      <td>25</td>\n",
       "    </tr>\n",
       "    <tr>\n",
       "      <td>4</td>\n",
       "      <td>64</td>\n",
       "      <td>32</td>\n",
       "    </tr>\n",
       "    <tr>\n",
       "      <td>5</td>\n",
       "      <td>257</td>\n",
       "      <td>135</td>\n",
       "    </tr>\n",
       "    <tr>\n",
       "      <td>6</td>\n",
       "      <td>62</td>\n",
       "      <td>31</td>\n",
       "    </tr>\n",
       "    <tr>\n",
       "      <td>...</td>\n",
       "      <td>...</td>\n",
       "      <td>...</td>\n",
       "    </tr>\n",
       "    <tr>\n",
       "      <td>96</td>\n",
       "      <td>75</td>\n",
       "      <td>42</td>\n",
       "    </tr>\n",
       "    <tr>\n",
       "      <td>97</td>\n",
       "      <td>68</td>\n",
       "      <td>41</td>\n",
       "    </tr>\n",
       "    <tr>\n",
       "      <td>98</td>\n",
       "      <td>65</td>\n",
       "      <td>28</td>\n",
       "    </tr>\n",
       "    <tr>\n",
       "      <td>99</td>\n",
       "      <td>68</td>\n",
       "      <td>39</td>\n",
       "    </tr>\n",
       "    <tr>\n",
       "      <td>100</td>\n",
       "      <td>70</td>\n",
       "      <td>32</td>\n",
       "    </tr>\n",
       "  </tbody>\n",
       "</table>\n",
       "<p>77 rows × 2 columns</p>\n",
       "</div>"
      ],
      "text/plain": [
       "         NUM_POST  NUM_LIKE\n",
       "USER_ID                    \n",
       "2              66        29\n",
       "3              67        25\n",
       "4              64        32\n",
       "5             257       135\n",
       "6              62        31\n",
       "...           ...       ...\n",
       "96             75        42\n",
       "97             68        41\n",
       "98             65        28\n",
       "99             68        39\n",
       "100            70        32\n",
       "\n",
       "[77 rows x 2 columns]"
      ]
     },
     "execution_count": 71,
     "metadata": {},
     "output_type": "execute_result"
    }
   ],
   "source": [
    "AGG25 = df2.groupby('USER_ID')[['POST_ID', 'LIKES']]\\\n",
    "            .apply(lambda x: pd.Series({'NUM_POST': x['POST_ID'].nunique(),\n",
    "                                        'NUM_LIKE': (x['LIKES'] == 'yes').sum()}))\n",
    "AGG25"
   ]
  },
  {
   "cell_type": "markdown",
   "id": "a112a517",
   "metadata": {},
   "source": [
    "## 2-2."
   ]
  },
  {
   "cell_type": "code",
   "execution_count": 73,
   "id": "c06481a3",
   "metadata": {},
   "outputs": [],
   "source": [
    "from sklearn.preprocessing import StandardScaler"
   ]
  },
  {
   "cell_type": "code",
   "execution_count": 74,
   "id": "a6cd7bf1",
   "metadata": {},
   "outputs": [
    {
     "data": {
      "text/plain": [
       "Index(['NUM_POST', 'NUM_LIKE'], dtype='object')"
      ]
     },
     "execution_count": 74,
     "metadata": {},
     "output_type": "execute_result"
    }
   ],
   "source": [
    "cols = AGG25.columns\n",
    "cols"
   ]
  },
  {
   "cell_type": "code",
   "execution_count": 75,
   "id": "ead459df",
   "metadata": {
    "scrolled": true
   },
   "outputs": [],
   "source": [
    "scaler = StandardScaler().fit(AGG25)"
   ]
  },
  {
   "cell_type": "code",
   "execution_count": 78,
   "id": "d5bbe30c",
   "metadata": {},
   "outputs": [],
   "source": [
    "df_scaled = pd.DataFrame(scaler.transform(AGG25), columns=[f'{col}_S' for col in cols])"
   ]
  },
  {
   "cell_type": "markdown",
   "id": "d93f76f5",
   "metadata": {},
   "source": [
    "## 2-3."
   ]
  },
  {
   "cell_type": "code",
   "execution_count": 79,
   "id": "439da064",
   "metadata": {},
   "outputs": [],
   "source": [
    "from sklearn.cluster import KMeans"
   ]
  },
  {
   "cell_type": "code",
   "execution_count": 80,
   "id": "17e891ec",
   "metadata": {},
   "outputs": [],
   "source": [
    "model = KMeans(n_clusters=2, random_state=1234).fit(df_scaled)"
   ]
  },
  {
   "cell_type": "code",
   "execution_count": 82,
   "id": "1aaba4af",
   "metadata": {},
   "outputs": [],
   "source": [
    "cluster = model.predict(df_scaled)"
   ]
  },
  {
   "cell_type": "code",
   "execution_count": 84,
   "id": "e88039c9",
   "metadata": {},
   "outputs": [],
   "source": [
    "AGG25['cluster'] = cluster"
   ]
  },
  {
   "cell_type": "markdown",
   "id": "686fb9e7",
   "metadata": {},
   "source": [
    "## 2-4."
   ]
  },
  {
   "cell_type": "code",
   "execution_count": 85,
   "id": "e7b6dcf7",
   "metadata": {},
   "outputs": [
    {
     "data": {
      "text/plain": [
       "0    64\n",
       "1    13\n",
       "Name: cluster, dtype: int64"
      ]
     },
     "execution_count": 85,
     "metadata": {},
     "output_type": "execute_result"
    }
   ],
   "source": [
    "AGG25['cluster'].value_counts()"
   ]
  },
  {
   "cell_type": "code",
   "execution_count": 86,
   "id": "68a92135",
   "metadata": {},
   "outputs": [],
   "source": [
    "Cluster1 = 0\n",
    "Cluster2 = 1"
   ]
  },
  {
   "cell_type": "markdown",
   "id": "3aa3fea9",
   "metadata": {},
   "source": [
    "## 2-5."
   ]
  },
  {
   "cell_type": "code",
   "execution_count": 91,
   "id": "19945217",
   "metadata": {},
   "outputs": [
    {
     "data": {
      "text/html": [
       "<div>\n",
       "<style scoped>\n",
       "    .dataframe tbody tr th:only-of-type {\n",
       "        vertical-align: middle;\n",
       "    }\n",
       "\n",
       "    .dataframe tbody tr th {\n",
       "        vertical-align: top;\n",
       "    }\n",
       "\n",
       "    .dataframe thead th {\n",
       "        text-align: right;\n",
       "    }\n",
       "</style>\n",
       "<table border=\"1\" class=\"dataframe\">\n",
       "  <thead>\n",
       "    <tr style=\"text-align: right;\">\n",
       "      <th></th>\n",
       "      <th>PID</th>\n",
       "      <th>USER_ID</th>\n",
       "      <th>POST_ID</th>\n",
       "      <th>CREATED_DATE</th>\n",
       "      <th>LIKES</th>\n",
       "      <th>NUM_HASHTAG</th>\n",
       "      <th>LIKE_TYPE</th>\n",
       "      <th>NUM_POST</th>\n",
       "      <th>NUM_LIKE</th>\n",
       "      <th>cluster</th>\n",
       "    </tr>\n",
       "  </thead>\n",
       "  <tbody>\n",
       "    <tr>\n",
       "      <td>0</td>\n",
       "      <td>1</td>\n",
       "      <td>2</td>\n",
       "      <td>1</td>\n",
       "      <td>2023-04-13</td>\n",
       "      <td>yes</td>\n",
       "      <td>1</td>\n",
       "      <td>heart emoji</td>\n",
       "      <td>66</td>\n",
       "      <td>29</td>\n",
       "      <td>0</td>\n",
       "    </tr>\n",
       "    <tr>\n",
       "      <td>1</td>\n",
       "      <td>2</td>\n",
       "      <td>3</td>\n",
       "      <td>1</td>\n",
       "      <td>2023-04-13</td>\n",
       "      <td>no</td>\n",
       "      <td>2</td>\n",
       "      <td>NaN</td>\n",
       "      <td>67</td>\n",
       "      <td>25</td>\n",
       "      <td>0</td>\n",
       "    </tr>\n",
       "    <tr>\n",
       "      <td>2</td>\n",
       "      <td>3</td>\n",
       "      <td>5</td>\n",
       "      <td>1</td>\n",
       "      <td>2023-04-13</td>\n",
       "      <td>no</td>\n",
       "      <td>4</td>\n",
       "      <td>fire</td>\n",
       "      <td>257</td>\n",
       "      <td>135</td>\n",
       "      <td>1</td>\n",
       "    </tr>\n",
       "    <tr>\n",
       "      <td>3</td>\n",
       "      <td>4</td>\n",
       "      <td>14</td>\n",
       "      <td>1</td>\n",
       "      <td>2023-04-13</td>\n",
       "      <td>yes</td>\n",
       "      <td>2</td>\n",
       "      <td>laughing</td>\n",
       "      <td>257</td>\n",
       "      <td>148</td>\n",
       "      <td>1</td>\n",
       "    </tr>\n",
       "    <tr>\n",
       "      <td>4</td>\n",
       "      <td>5</td>\n",
       "      <td>17</td>\n",
       "      <td>1</td>\n",
       "      <td>2023-04-13</td>\n",
       "      <td>yes</td>\n",
       "      <td>1</td>\n",
       "      <td>NaN</td>\n",
       "      <td>83</td>\n",
       "      <td>36</td>\n",
       "      <td>0</td>\n",
       "    </tr>\n",
       "  </tbody>\n",
       "</table>\n",
       "</div>"
      ],
      "text/plain": [
       "   PID  USER_ID  POST_ID CREATED_DATE LIKES  NUM_HASHTAG    LIKE_TYPE  \\\n",
       "0    1        2        1   2023-04-13   yes            1  heart emoji   \n",
       "1    2        3        1   2023-04-13    no            2          NaN   \n",
       "2    3        5        1   2023-04-13    no            4         fire   \n",
       "3    4       14        1   2023-04-13   yes            2     laughing   \n",
       "4    5       17        1   2023-04-13   yes            1          NaN   \n",
       "\n",
       "   NUM_POST  NUM_LIKE  cluster  \n",
       "0        66        29        0  \n",
       "1        67        25        0  \n",
       "2       257       135        1  \n",
       "3       257       148        1  \n",
       "4        83        36        0  "
      ]
     },
     "execution_count": 91,
     "metadata": {},
     "output_type": "execute_result"
    }
   ],
   "source": [
    "df_merge = pd.merge(post, AGG25, left_on='USER_ID', right_index=True, how='left')\n",
    "df_merge.head()"
   ]
  },
  {
   "cell_type": "code",
   "execution_count": 93,
   "id": "9740479d",
   "metadata": {},
   "outputs": [],
   "source": [
    "Avg_A = df_merge[df_merge['cluster'] == Cluster1]['NUM_HASHTAG'].mean()"
   ]
  },
  {
   "cell_type": "markdown",
   "id": "971ca006",
   "metadata": {},
   "source": [
    "## 2-6."
   ]
  },
  {
   "cell_type": "code",
   "execution_count": 95,
   "id": "c472a713",
   "metadata": {},
   "outputs": [],
   "source": [
    "Avg_B = df_merge[df_merge['cluster'] == Cluster2]['NUM_HASHTAG'].mean()"
   ]
  },
  {
   "cell_type": "code",
   "execution_count": 96,
   "id": "93ffde41",
   "metadata": {},
   "outputs": [
    {
     "data": {
      "text/plain": [
       "0.026"
      ]
     },
     "execution_count": 96,
     "metadata": {},
     "output_type": "execute_result"
    }
   ],
   "source": [
    "round(abs(Avg_A - Avg_B), 3)"
   ]
  },
  {
   "cell_type": "markdown",
   "id": "d8050b5a",
   "metadata": {},
   "source": [
    "# 3."
   ]
  },
  {
   "cell_type": "markdown",
   "id": "18d4072e",
   "metadata": {},
   "source": [
    "## 3-1."
   ]
  },
  {
   "cell_type": "code",
   "execution_count": 98,
   "id": "6bc588da",
   "metadata": {},
   "outputs": [],
   "source": [
    "AGG26 = post.groupby(['POST_ID', 'CREATED_DATE'])[['USER_ID', 'LIKES', 'NUM_HASHTAG']]\\\n",
    "            .apply(lambda x: pd.Series({'NUM_USER': x['USER_ID'].nunique(),\n",
    "                                        'NUM_LIKES': (x['LIKES'] == 'yes').sum(),\n",
    "                                        'AVG_HASHTAG': x['NUM_HASHTAG'].mean()}))"
   ]
  },
  {
   "cell_type": "code",
   "execution_count": 99,
   "id": "3a5e3314",
   "metadata": {},
   "outputs": [
    {
     "data": {
      "text/html": [
       "<div>\n",
       "<style scoped>\n",
       "    .dataframe tbody tr th:only-of-type {\n",
       "        vertical-align: middle;\n",
       "    }\n",
       "\n",
       "    .dataframe tbody tr th {\n",
       "        vertical-align: top;\n",
       "    }\n",
       "\n",
       "    .dataframe thead th {\n",
       "        text-align: right;\n",
       "    }\n",
       "</style>\n",
       "<table border=\"1\" class=\"dataframe\">\n",
       "  <thead>\n",
       "    <tr style=\"text-align: right;\">\n",
       "      <th></th>\n",
       "      <th></th>\n",
       "      <th>NUM_USER</th>\n",
       "      <th>NUM_LIKES</th>\n",
       "      <th>AVG_HASHTAG</th>\n",
       "    </tr>\n",
       "    <tr>\n",
       "      <th>POST_ID</th>\n",
       "      <th>CREATED_DATE</th>\n",
       "      <th></th>\n",
       "      <th></th>\n",
       "      <th></th>\n",
       "    </tr>\n",
       "  </thead>\n",
       "  <tbody>\n",
       "    <tr>\n",
       "      <td>1</td>\n",
       "      <td>2023-04-13</td>\n",
       "      <td>25.0</td>\n",
       "      <td>13.0</td>\n",
       "      <td>2.360000</td>\n",
       "    </tr>\n",
       "    <tr>\n",
       "      <td>2</td>\n",
       "      <td>2023-04-13</td>\n",
       "      <td>31.0</td>\n",
       "      <td>15.0</td>\n",
       "      <td>2.387097</td>\n",
       "    </tr>\n",
       "    <tr>\n",
       "      <td>3</td>\n",
       "      <td>2023-04-13</td>\n",
       "      <td>27.0</td>\n",
       "      <td>14.0</td>\n",
       "      <td>2.481481</td>\n",
       "    </tr>\n",
       "    <tr>\n",
       "      <td>4</td>\n",
       "      <td>2023-04-13</td>\n",
       "      <td>32.0</td>\n",
       "      <td>16.0</td>\n",
       "      <td>2.281250</td>\n",
       "    </tr>\n",
       "    <tr>\n",
       "      <td>5</td>\n",
       "      <td>2023-04-13</td>\n",
       "      <td>27.0</td>\n",
       "      <td>13.0</td>\n",
       "      <td>2.629630</td>\n",
       "    </tr>\n",
       "    <tr>\n",
       "      <td>...</td>\n",
       "      <td>...</td>\n",
       "      <td>...</td>\n",
       "      <td>...</td>\n",
       "      <td>...</td>\n",
       "    </tr>\n",
       "    <tr>\n",
       "      <td>253</td>\n",
       "      <td>2023-04-21</td>\n",
       "      <td>26.0</td>\n",
       "      <td>13.0</td>\n",
       "      <td>2.384615</td>\n",
       "    </tr>\n",
       "    <tr>\n",
       "      <td>254</td>\n",
       "      <td>2023-04-21</td>\n",
       "      <td>26.0</td>\n",
       "      <td>13.0</td>\n",
       "      <td>2.346154</td>\n",
       "    </tr>\n",
       "    <tr>\n",
       "      <td>255</td>\n",
       "      <td>2023-04-21</td>\n",
       "      <td>29.0</td>\n",
       "      <td>15.0</td>\n",
       "      <td>2.310345</td>\n",
       "    </tr>\n",
       "    <tr>\n",
       "      <td>256</td>\n",
       "      <td>2023-04-21</td>\n",
       "      <td>29.0</td>\n",
       "      <td>14.0</td>\n",
       "      <td>2.586207</td>\n",
       "    </tr>\n",
       "    <tr>\n",
       "      <td>257</td>\n",
       "      <td>2023-04-21</td>\n",
       "      <td>24.0</td>\n",
       "      <td>12.0</td>\n",
       "      <td>2.416667</td>\n",
       "    </tr>\n",
       "  </tbody>\n",
       "</table>\n",
       "<p>257 rows × 3 columns</p>\n",
       "</div>"
      ],
      "text/plain": [
       "                      NUM_USER  NUM_LIKES  AVG_HASHTAG\n",
       "POST_ID CREATED_DATE                                  \n",
       "1       2023-04-13        25.0       13.0     2.360000\n",
       "2       2023-04-13        31.0       15.0     2.387097\n",
       "3       2023-04-13        27.0       14.0     2.481481\n",
       "4       2023-04-13        32.0       16.0     2.281250\n",
       "5       2023-04-13        27.0       13.0     2.629630\n",
       "...                        ...        ...          ...\n",
       "253     2023-04-21        26.0       13.0     2.384615\n",
       "254     2023-04-21        26.0       13.0     2.346154\n",
       "255     2023-04-21        29.0       15.0     2.310345\n",
       "256     2023-04-21        29.0       14.0     2.586207\n",
       "257     2023-04-21        24.0       12.0     2.416667\n",
       "\n",
       "[257 rows x 3 columns]"
      ]
     },
     "execution_count": 99,
     "metadata": {},
     "output_type": "execute_result"
    }
   ],
   "source": [
    "AGG26"
   ]
  },
  {
   "cell_type": "markdown",
   "id": "2c01e0cf",
   "metadata": {},
   "source": [
    "## 3-2."
   ]
  },
  {
   "cell_type": "code",
   "execution_count": 101,
   "id": "b8e6894d",
   "metadata": {},
   "outputs": [],
   "source": [
    "AGG26['POPULAR'] = np.where(AGG26['NUM_USER'] >= 31, 1, 0)"
   ]
  },
  {
   "cell_type": "markdown",
   "id": "f819d1fe",
   "metadata": {},
   "source": [
    "## 3-3."
   ]
  },
  {
   "cell_type": "code",
   "execution_count": 102,
   "id": "16d1719b",
   "metadata": {},
   "outputs": [],
   "source": [
    "from datetime import datetime"
   ]
  },
  {
   "cell_type": "code",
   "execution_count": 105,
   "id": "dd63279b",
   "metadata": {},
   "outputs": [],
   "source": [
    "AGG26 = AGG26.reset_index()"
   ]
  },
  {
   "cell_type": "code",
   "execution_count": 108,
   "id": "78f44f0c",
   "metadata": {},
   "outputs": [],
   "source": [
    "AGG26['WEEKDAY'] = AGG26['CREATED_DATE'].map(lambda x: datetime.strptime(x, '%Y-%m-%d').strftime('%w'))"
   ]
  },
  {
   "cell_type": "markdown",
   "id": "7a2670de",
   "metadata": {},
   "source": [
    "## 3-4."
   ]
  },
  {
   "cell_type": "code",
   "execution_count": 109,
   "id": "53c144e9",
   "metadata": {},
   "outputs": [],
   "source": [
    "DataSet6 = AGG26.copy()"
   ]
  },
  {
   "cell_type": "code",
   "execution_count": 110,
   "id": "101825c7",
   "metadata": {},
   "outputs": [],
   "source": [
    "from sklearn.naive_bayes import GaussianNB"
   ]
  },
  {
   "cell_type": "code",
   "execution_count": 112,
   "id": "1a0a66f3",
   "metadata": {
    "scrolled": false
   },
   "outputs": [],
   "source": [
    "DataSet6.columns\n",
    "\n",
    "cols = ['NUM_LIKES', 'AVG_HASHTAG', 'WEEKDAY']"
   ]
  },
  {
   "cell_type": "code",
   "execution_count": 114,
   "id": "c8637805",
   "metadata": {},
   "outputs": [],
   "source": [
    "model = GaussianNB().fit(X=DataSet6[cols], y=DataSet6['POPULAR'])"
   ]
  },
  {
   "cell_type": "markdown",
   "id": "34cffc09",
   "metadata": {},
   "source": [
    "## 3-5."
   ]
  },
  {
   "cell_type": "code",
   "execution_count": 116,
   "id": "3d4aea8d",
   "metadata": {},
   "outputs": [
    {
     "data": {
      "text/html": [
       "<div>\n",
       "<style scoped>\n",
       "    .dataframe tbody tr th:only-of-type {\n",
       "        vertical-align: middle;\n",
       "    }\n",
       "\n",
       "    .dataframe tbody tr th {\n",
       "        vertical-align: top;\n",
       "    }\n",
       "\n",
       "    .dataframe thead th {\n",
       "        text-align: right;\n",
       "    }\n",
       "</style>\n",
       "<table border=\"1\" class=\"dataframe\">\n",
       "  <thead>\n",
       "    <tr style=\"text-align: right;\">\n",
       "      <th></th>\n",
       "      <th>NUM_LIKES</th>\n",
       "      <th>AVG_HASHTAG</th>\n",
       "      <th>WEEKDAY</th>\n",
       "    </tr>\n",
       "  </thead>\n",
       "  <tbody>\n",
       "    <tr>\n",
       "      <td>0</td>\n",
       "      <td>16</td>\n",
       "      <td>2.42</td>\n",
       "      <td>5</td>\n",
       "    </tr>\n",
       "  </tbody>\n",
       "</table>\n",
       "</div>"
      ],
      "text/plain": [
       "   NUM_LIKES  AVG_HASHTAG  WEEKDAY\n",
       "0         16         2.42        5"
      ]
     },
     "execution_count": 116,
     "metadata": {},
     "output_type": "execute_result"
    }
   ],
   "source": [
    "tmp = pd.DataFrame({'NUM_LIKES': [16],\n",
    "                    'AVG_HASHTAG': [2.42],\n",
    "                    'WEEKDAY': [5]})\n",
    "tmp"
   ]
  },
  {
   "cell_type": "code",
   "execution_count": 126,
   "id": "5b4e071f",
   "metadata": {},
   "outputs": [
    {
     "data": {
      "text/plain": [
       "0.776"
      ]
     },
     "execution_count": 126,
     "metadata": {},
     "output_type": "execute_result"
    }
   ],
   "source": [
    "round(model.predict_proba(tmp)[:, 1][0], 3)"
   ]
  },
  {
   "cell_type": "markdown",
   "id": "98ed1503",
   "metadata": {},
   "source": [
    "---"
   ]
  },
  {
   "cell_type": "markdown",
   "id": "427b3ff4",
   "metadata": {},
   "source": [
    "### 참고"
   ]
  },
  {
   "cell_type": "code",
   "execution_count": 118,
   "id": "bcb879b5",
   "metadata": {},
   "outputs": [
    {
     "data": {
      "text/plain": [
       "array([0, 1], dtype=int64)"
      ]
     },
     "execution_count": 118,
     "metadata": {},
     "output_type": "execute_result"
    }
   ],
   "source": [
    "DataSet6['POPULAR'].unique()"
   ]
  },
  {
   "cell_type": "code",
   "execution_count": 123,
   "id": "c5132ae7",
   "metadata": {},
   "outputs": [
    {
     "data": {
      "text/plain": [
       "array([['1', 'a'],\n",
       "       ['2', 'b'],\n",
       "       ['3', 'c']], dtype='<U11')"
      ]
     },
     "execution_count": 123,
     "metadata": {},
     "output_type": "execute_result"
    }
   ],
   "source": [
    "test = np.array([\n",
    "    [1, 'a'],\n",
    "    [2, 'b'],\n",
    "    [3, 'c']\n",
    "])\n",
    "test"
   ]
  },
  {
   "cell_type": "code",
   "execution_count": 124,
   "id": "ba17cc9f",
   "metadata": {},
   "outputs": [
    {
     "data": {
      "text/plain": [
       "array(['a', 'b', 'c'], dtype='<U11')"
      ]
     },
     "execution_count": 124,
     "metadata": {},
     "output_type": "execute_result"
    }
   ],
   "source": [
    "test[:, 1]"
   ]
  },
  {
   "cell_type": "code",
   "execution_count": null,
   "id": "ca662e0b",
   "metadata": {},
   "outputs": [],
   "source": []
  },
  {
   "cell_type": "code",
   "execution_count": null,
   "id": "4a5b031a",
   "metadata": {},
   "outputs": [],
   "source": []
  },
  {
   "cell_type": "code",
   "execution_count": null,
   "id": "f79f8b3b",
   "metadata": {},
   "outputs": [],
   "source": []
  },
  {
   "cell_type": "code",
   "execution_count": null,
   "id": "cbe277d2",
   "metadata": {},
   "outputs": [],
   "source": []
  },
  {
   "cell_type": "code",
   "execution_count": null,
   "id": "619c3bfb",
   "metadata": {},
   "outputs": [],
   "source": []
  }
 ],
 "metadata": {
  "kernelspec": {
   "display_name": "Python 3 (ipykernel)",
   "language": "python",
   "name": "python3"
  },
  "language_info": {
   "codemirror_mode": {
    "name": "ipython",
    "version": 3
   },
   "file_extension": ".py",
   "mimetype": "text/x-python",
   "name": "python",
   "nbconvert_exporter": "python",
   "pygments_lexer": "ipython3",
   "version": "3.7.4"
  }
 },
 "nbformat": 4,
 "nbformat_minor": 5
}
